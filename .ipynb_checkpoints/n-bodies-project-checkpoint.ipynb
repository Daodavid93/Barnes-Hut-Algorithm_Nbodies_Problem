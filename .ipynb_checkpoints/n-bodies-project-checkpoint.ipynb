{
 "cells": [
  {
   "cell_type": "code",
   "execution_count": 1,
   "metadata": {},
   "outputs": [],
   "source": [
    "from daomechanics.gravity import *\n",
    "from dao_util.plot_forces import *\n",
    "import matplotlib.pyplot as plt\n",
    "from matplotlib import animation, rc\n",
    "from IPython.display import HTML\n",
    "from random import *\n",
    "import numpy as np"
   ]
  },
  {
   "cell_type": "markdown",
   "metadata": {},
   "source": [
    "# &nbsp;N-bodies problem and Barnes-Hut algorithm <br>\n",
    "#### Author : &nbsp;&nbsp;&nbsp;David Stankov"
   ]
  },
  {
   "cell_type": "markdown",
   "metadata": {},
   "source": [
    "## Abstract <br>\n",
    "&nbsp; The only way to solve force iteraction between n bodies ,where n>2 is numerical approach.It can not be find the solution with common analitical itegration.The solution involve complexity\n",
    "$O(n)=2*k.h.n^2$ number of itergration step ,where h = itegration step or time step,k count of itegration and k.v=t t-time,The multiplier 2 is because that is second order DU.In this paper we\n",
    "will see how this complexity can be reduced to O(n log n) or O(n) by using Barnes-Hut and Leapfrogs algorithms"
   ]
  },
  {
   "cell_type": "markdown",
   "metadata": {},
   "source": [
    "## Introduction   <br> \n",
    "&nbsp; Many physical problems involve interaction between many bodies.The most famous example is interaction under gravity force wich is noted:  $$\\vec{G_{ij}}= G.m_j.m_i.\\frac{\\vec{r_j} - \\vec{r_i}}{|\\vec{r_j}-\\vec{r_i}|^3}$$ where $i \\neq j$, G is gravity constant,m is the mass. Example for 3 bodies is \n",
    " "
   ]
  },
  {
   "cell_type": "code",
   "execution_count": 2,
   "metadata": {},
   "outputs": [
    {
     "data": {
      "image/png": "[encoded data removed]",
      "text/plain": [
       "<Figure size 432x288 with 1 Axes>"
      ]
     },
     "metadata": {
      "needs_background": "light"
     },
     "output_type": "display_data"
    }
   ],
   "source": [
    "show_force_image()"
   ]
  },
  {
   "cell_type": "markdown",
   "metadata": {},
   "source": [
    "The equations of motion according second law of mechanics is second order system ODE: <br>\n",
    "    1) $\\frac{d^2\\vec{r_i}}{dt^2}m_i=\\sum_{j=1}^{n}\\vec{G_{ij}}$ <br>where $\\vec{r(t)}$ is the radius vector and equation of motions "
   ]
  },
  {
   "cell_type": "markdown",
   "metadata": {},
   "source": [
    "## Methods <br>\n",
    "### Leapfrog integration <br>\n",
    "&nbsp; The leapfrog integration is method for numericaly integrating of differential eqationss of the form \n",
    "$$ \\frac{d^2x}{dx^2} = F(x) $$ \n",
    "\n",
    "leapfrog integration is a second-order method, in contrast to Euler integration, which is only first-order, yet requires the same number of function evaluations per step. Unlike Euler integration, it is stable for oscillatory motion, as long as the time-step $\\Delta t$  is constant\n",
    "\n",
    "\n",
    "$$a_i = F(x_i) $$\n",
    "$$v_{i+1/2} = v_{i-1/2} + a_i \\Delta t  $$\n",
    "$$x_i+1 =x_i + v_{i+1/2} \\Delta{t}$$\n",
    "where $x_i$ is position at step  i, $v_{i+1/2}$  is the velocity, or first derivative of  x, at step i+1/2 , $a_i=F(x_i)$ is accelaration or second derivate x ,at step i,and $ \\Delta t $ is the size of each time step. \n",
    "These equations can be expressed in a form that gives velocity at integer steps as well:\n",
    "$$x_{i+1} =x_i +v_i\\Delta t + \\frac{1}{2}a_i\\Delta t^2$$\n",
    "$$v_{i+1} =v_i + \\frac{1}{2}(a_i + a_i+1)\\Delta t$$\n",
    "However, even in this synchronized form, the time-step $ \\Delta t $ must be constant to maintain stability.\n",
    "\n",
    "The synchronised form can be re-arranged to the 'kick-drift-kick' form;\n",
    "$$v_{i+1/2} =v_i +a_i\\frac{ \\Delta t }{2}$$\n",
    "$$x_{i+1} =x_i +v_{i/2}\\Delta t$$\n",
    "$$v_{i} =v_{i+1/2} +a_{i+1}\\frac{\\Delta t}{2}$$\n",
    "which is primarily used where variable time-steps are required.\n",
    "In this project uses he 'kick-drift-kick' form.\n",
    "The algorithm can be apply for system ODE"
   ]
  },
  {
   "cell_type": "markdown",
   "metadata": {},
   "source": [
    "### The Barnes-Hut algorithm <br>\n",
    "#### Center of mass <br>\n",
    "The definition of center of mass for bodies is $$ \\vec{R}=\\frac{\\sum_{i=1}^{n}\\vec{r_i}m_i}{\\sum_{j=1}^{n}m_i}$$.We use center of the mass to group n bodies even infinity body as one\n",
    "\n",
    "A basic computer structure representing a physical spatial distribution of bodies in a space is a tree. The root of the tree (overall simulated volume) encompasses all bodies in the simulated system\n",
    "\n",
    "In order to reduce the complexity of the simulation, the Barnes-Hut algorithm (see nbody_barnes_hut.c) uses approximations during the phase that computes the forces applied to a particle. The main idea of this algorithm is to group particles that are close to each other into one big \"virtual\" particle. When computing the forces applied to a particle p1, if a group of particles is far enough from p1, the cumulated force of the particles is approximated by the force of the virtual particle whose position is at the barycenter of the particles and whose mass is the sum of the particles mass.\n",
    "To do that, the space (in this case, a 2 dimension space) is recursively split in 4, forming a quad-tree. Each node of the quad-tree corresponds to a region of the 2D space. Each node is split recursively into 4 sub node until the nodes contain at most one particle. The result is a tree where the leafs contain particles. Here is an example of a tree containing 8 particles:\n",
    "<img src=\"/sources/example1.gif\">\n",
    "\n",
    "\n"
   ]
  },
  {
   "cell_type": "code",
   "execution_count": 3,
   "metadata": {},
   "outputs": [
    {
     "data": {
      "text/html": [
       "<img src=\"sources/example2.gif\",width=1000,height=20>\n"
      ],
      "text/plain": [
       "<IPython.core.display.HTML object>"
      ]
     },
     "metadata": {},
     "output_type": "display_data"
    }
   ],
   "source": [
    "%%html\n",
    "<img src=\"sources/example2.gif\",width=1000,height=20>"
   ]
  },
  {
   "cell_type": "markdown",
   "metadata": {},
   "source": [
    "When creating the tree, the barycentre of each node is computed. Thus, the computation of the forces applied to a particle p1 is done recursively starting from the root of the tree. For each node n, the following algorithm is applied:\n",
    "If n is a leaf, the force of n's particle (if any) on p1 is computed\n",
    "Else, the ratio between the size of the node (size) and the distance between the barycentre and p1 (distance) is computed.\n",
    "If size/distance < θ, the force of a virtual particle against p1 is computed. The virtual particle mass is the sum of the mass of the particles in the node, and its position is the barycentre of these particles.\n",
    "Otherwise, the algorithm is repeated recursively for the 4 sub nodes of n\n",
    "The value of θ is chosen arbitrarily and defines the approximation of the algorithm. For this project, we assume that θ = 0.5.\n",
    "Once the computation of the force applied to the particles is complete, the new position of the particles is computed, and a new tree corresponding to the new position is created.\n",
    "\n",
    "###### The implentation of alogirthm can be see in project folder /daomechnis/gravity.py\n",
    "\n",
    "\n",
    "\n",
    "\n"
   ]
  },
  {
   "cell_type": "markdown",
   "metadata": {},
   "source": [
    "#####  Let see examples which i prepared in advance .The time for execution of these examples get time between 10 to 120 min.The number of bodies are between 2 and 600 .\n",
    "### 2 bodies\n",
    "\n",
    "### NOTE !!!! THE GENERATION OF VIDEOS EXAMPLES CAN BE SEE IN FOLDER DAOMECHANICS\\GENERATION_ЕXAMPLES"
   ]
  },
  {
   "cell_type": "markdown",
   "metadata": {},
   "source": [
    "<video width=\"500\" height=\"540\" controls>\n",
    "  <source src=\"video\\3-2.mp4\" type=\"video/mp4\">\n",
    "</video>"
   ]
  },
  {
   "cell_type": "markdown",
   "metadata": {},
   "source": [
    "3 bodies:"
   ]
  },
  {
   "cell_type": "code",
   "execution_count": 12,
   "metadata": {},
   "outputs": [
    {
     "data": {
      "text/html": [
       "<video width=\"500\" height=\"540\" controls>\n",
       "  <source src=\"video\\3-2.mp4\" type=\"video/mp4\">\n",
       "</video>\n",
       "%%HTML\n",
       "<video width=\"500\" height=\"540\" controls>\n",
       "  <source src=\"video\\3-3.mp4\" type=\"video/mp4\">\n",
       "</video>\n",
       "<video width=\"500\" height=\"540\" controls>\n",
       "  <source src=\"video\\3-5.mp4\" type=\"video/mp4\">\n",
       "</video>\n"
      ],
      "text/plain": [
       "<IPython.core.display.HTML object>"
      ]
     },
     "metadata": {},
     "output_type": "display_data"
    }
   ],
   "source": [
    "%%HTML\n",
    "<video width=\"500\" height=\"540\" controls>\n",
    "  <source src=\"video\\3-2.mp4\" type=\"video/mp4\">\n",
    "</video>\n",
    "%%HTML\n",
    "<video width=\"500\" height=\"540\" controls>\n",
    "  <source src=\"video\\3-3.mp4\" type=\"video/mp4\">\n",
    "</video>\n",
    "<video width=\"500\" height=\"540\" controls>\n",
    "  <source src=\"video\\3-5.mp4\" type=\"video/mp4\">\n",
    "</video>"
   ]
  },
  {
   "cell_type": "markdown",
   "metadata": {},
   "source": [
    "### 3 bodies with one same mass"
   ]
  },
  {
   "cell_type": "markdown",
   "metadata": {},
   "source": [
    "### System of 5 bodies with random mass,velocity and coordinates "
   ]
  },
  {
   "cell_type": "code",
   "execution_count": 4,
   "metadata": {
    "scrolled": true
   },
   "outputs": [
    {
     "data": {
      "text/html": [
       "<video width=\"500\" height=\"540\" controls>\n",
       "  <source src=\"video\\n-b-1.mp4\" type=\"video/mp4\">\n",
       "</video>\n"
      ],
      "text/plain": [
       "<IPython.core.display.HTML object>"
      ]
     },
     "metadata": {},
     "output_type": "display_data"
    }
   ],
   "source": [
    "%%HTML\n",
    "<video width=\"500\" height=\"540\" controls>\n",
    "  <source src=\"video\\n-b-1.mp4\" type=\"video/mp4\">\n",
    "</video>"
   ]
  },
  {
   "cell_type": "markdown",
   "metadata": {},
   "source": [
    "### With N = 100"
   ]
  },
  {
   "cell_type": "code",
   "execution_count": 3,
   "metadata": {},
   "outputs": [
    {
     "data": {
      "text/html": [
       "<video width=\"500\" height=\"540\" controls>\n",
       "  <source src=\"video\\n-100.mp4\" type=\"video/mp4\">\n",
       "</video>\n"
      ],
      "text/plain": [
       "<IPython.core.display.HTML object>"
      ]
     },
     "metadata": {},
     "output_type": "display_data"
    }
   ],
   "source": [
    "%%HTML\n",
    "<video width=\"500\" height=\"540\" controls>\n",
    "  <source src=\"video\\n-100.mp4\" type=\"video/mp4\">\n",
    "</video>"
   ]
  },
  {
   "cell_type": "markdown",
   "metadata": {},
   "source": [
    "#### System with N=500"
   ]
  },
  {
   "cell_type": "code",
   "execution_count": 4,
   "metadata": {},
   "outputs": [
    {
     "data": {
      "text/html": [
       "<video width=\"500\" height=\"540\" controls>\n",
       "  <source src=\"video\\n-200.mp4\" type=\"video/mp4\">\n",
       "</video>\n"
      ],
      "text/plain": [
       "<IPython.core.display.HTML object>"
      ]
     },
     "metadata": {},
     "output_type": "display_data"
    }
   ],
   "source": [
    "%%HTML\n",
    "<video width=\"500\" height=\"540\" controls>\n",
    "  <source src=\"video\\n-200.mp4\" type=\"video/mp4\">\n",
    "</video>"
   ]
  },
  {
   "cell_type": "markdown",
   "metadata": {},
   "source": [
    "#### N=1000"
   ]
  },
  {
   "cell_type": "code",
   "execution_count": 7,
   "metadata": {},
   "outputs": [
    {
     "data": {
      "text/html": [
       "<video width=\"500\" height=\"540\" controls>\n",
       "  <source src=\"video\\g-10.mp4\" type=\"video/mp4\">\n",
       "</video>\n"
      ],
      "text/plain": [
       "<IPython.core.display.HTML object>"
      ]
     },
     "metadata": {},
     "output_type": "display_data"
    }
   ],
   "source": [
    "%%HTML\n",
    "<video width=\"500\" height=\"540\" controls>\n",
    "  <source src=\"video\\g-10.mp4\" type=\"video/mp4\">\n",
    "</video>"
   ]
  },
  {
   "cell_type": "code",
   "execution_count": 5,
   "metadata": {},
   "outputs": [
    {
     "data": {
      "text/html": [
       "<video width=\"500\" height=\"540\" controls>\n",
       "  <source src=\"video\\g71.mp4\" type=\"video/mp4\">\n",
       "</video>\n"
      ],
      "text/plain": [
       "<IPython.core.display.HTML object>"
      ]
     },
     "metadata": {},
     "output_type": "display_data"
    }
   ],
   "source": [
    "%%HTML\n",
    "<video width=\"500\" height=\"540\" controls>\n",
    "  <source src=\"video\\g71.mp4\" type=\"video/mp4\">\n",
    "</video>"
   ]
  },
  {
   "cell_type": "markdown",
   "metadata": {},
   "source": [
    "### System with 3 bodies with extremely big mass"
   ]
  },
  {
   "cell_type": "code",
   "execution_count": 9,
   "metadata": {
    "scrolled": true
   },
   "outputs": [
    {
     "data": {
      "text/html": [
       "<video width=\"500\" height=\"540\" controls>\n",
       "  <source src=\"video\\g-3-1.mp4\" type=\"video/mp4\">\n",
       "</video>\n"
      ],
      "text/plain": [
       "<IPython.core.display.HTML object>"
      ]
     },
     "metadata": {},
     "output_type": "display_data"
    }
   ],
   "source": [
    "%%HTML\n",
    "<video width=\"500\" height=\"540\" controls>\n",
    "  <source src=\"video\\g-3-1.mp4\" type=\"video/mp4\">\n",
    "</video>"
   ]
  },
  {
   "cell_type": "markdown",
   "metadata": {},
   "source": [
    "### colapse between two system with n=200"
   ]
  },
  {
   "cell_type": "code",
   "execution_count": 6,
   "metadata": {},
   "outputs": [
    {
     "data": {
      "text/html": [
       "<video width=\"500\" height=\"540\" controls>\n",
       "  <source src=\"video\\g-5.mp4\" type=\"video/mp4\">\n",
       "</video>\n"
      ],
      "text/plain": [
       "<IPython.core.display.HTML object>"
      ]
     },
     "metadata": {},
     "output_type": "display_data"
    }
   ],
   "source": [
    "%%HTML\n",
    "<video width=\"500\" height=\"540\" controls>\n",
    "  <source src=\"video\\g-5.mp4\" type=\"video/mp4\">\n",
    "</video>"
   ]
  },
  {
   "cell_type": "code",
   "execution_count": null,
   "metadata": {},
   "outputs": [],
   "source": []
  },
  {
   "cell_type": "markdown",
   "metadata": {},
   "source": [
    "### Random example when have 2 bodies with big mass"
   ]
  },
  {
   "cell_type": "code",
   "execution_count": 13,
   "metadata": {},
   "outputs": [
    {
     "data": {
      "text/html": [
       "<video width=\"500\" height=\"540\" controls>\n",
       "  <source src=\"video\\g-4.mp4\" type=\"video/mp4\">\n",
       "</video>\n"
      ],
      "text/plain": [
       "<IPython.core.display.HTML object>"
      ]
     },
     "metadata": {},
     "output_type": "display_data"
    }
   ],
   "source": []
  },
  {
   "cell_type": "markdown",
   "metadata": {},
   "source": [
    "### random example with to big groups"
   ]
  },
  {
   "cell_type": "code",
   "execution_count": 7,
   "metadata": {},
   "outputs": [
    {
     "data": {
      "text/html": [
       "<video width=\"500\" height=\"540\" controls>\n",
       "  <source src=\"video\\random-2.mp4\" type=\"video/mp4\">\n",
       "</video>\n"
      ],
      "text/plain": [
       "<IPython.core.display.HTML object>"
      ]
     },
     "metadata": {},
     "output_type": "display_data"
    }
   ],
   "source": [
    "%%HTML\n",
    "<video width=\"500\" height=\"540\" controls>\n",
    "  <source src=\"video\\random-2.mp4\" type=\"video/mp4\">\n",
    "</video>"
   ]
  },
  {
   "cell_type": "code",
   "execution_count": 15,
   "metadata": {},
   "outputs": [],
   "source": [
    "### random with 2 bodies with big mass"
   ]
  },
  {
   "cell_type": "code",
   "execution_count": 8,
   "metadata": {},
   "outputs": [
    {
     "data": {
      "text/html": [
       "<video width=\"500\" height=\"540\" controls>\n",
       "  <source src=\"video\\g71.mp4\" type=\"video/mp4\">\n",
       "</video>\n"
      ],
      "text/plain": [
       "<IPython.core.display.HTML object>"
      ]
     },
     "metadata": {},
     "output_type": "display_data"
    }
   ],
   "source": [
    "%%HTML\n",
    "<video width=\"500\" height=\"540\" controls>\n",
    "  <source src=\"video\\g71.mp4\" type=\"video/mp4\">\n",
    "</video>"
   ]
  },
  {
   "cell_type": "code",
   "execution_count": 10,
   "metadata": {},
   "outputs": [
    {
     "data": {
      "text/html": [
       "<video width=\"500\" height=\"540\" controls>\n",
       "  <source src=\"video\\random-3.mp4\" type=\"video/mp4\">\n",
       "</video>\n"
      ],
      "text/plain": [
       "<IPython.core.display.HTML object>"
      ]
     },
     "metadata": {},
     "output_type": "display_data"
    }
   ],
   "source": [
    "%%HTML\n",
    "<video width=\"500\" height=\"540\" controls>\n",
    "  <source src=\"video\\random-3.mp4\" type=\"video/mp4\">\n",
    "</video>"
   ]
  },
  {
   "cell_type": "code",
   "execution_count": 9,
   "metadata": {},
   "outputs": [
    {
     "data": {
      "text/html": [
       "<video width=\"500\" height=\"540\" controls>\n",
       "  <source src=\"video\\random-31.mp4\" type=\"video/mp4\">\n",
       "</video>\n"
      ],
      "text/plain": [
       "<IPython.core.display.HTML object>"
      ]
     },
     "metadata": {},
     "output_type": "display_data"
    }
   ],
   "source": [
    "%%HTML\n",
    "<video width=\"500\" height=\"540\" controls>\n",
    "  <source src=\"video\\random-31.mp4\" type=\"video/mp4\">\n",
    "</video>"
   ]
  },
  {
   "cell_type": "markdown",
   "metadata": {},
   "source": [
    "### Conclusions\n",
    "We shown the barnes-hut algorithm.This algorithm can be apply for billion-galaxies,but even with this algorithm the iteration can be enormous,and time for calculation get several days\n",
    "when  size/distance  tends to 1,then approximation grow more,but for the system  with small particle is more better to be less then 0.5\n",
    "The hierarchical and numerical approximation may lead to unacceptable errors in the simulation. Errors increases with each timestep in general. When simulating for several thousand time-steps, these errors will add up. Whatever code we use, we should test it in analytic limits where possible. We should compare our simulations with observations from telescopes and check whether our results are meaningful. We should use our intuition and ask what the output should be. The computer only does what we tell it to do, and will happily perform meaningless simulation. With the impressive power and scope of numerical techniques, we should be always aware of numerous potential pitfalls. Although remarkably robust, numerical simulations must be used with care if the results are to be meaningful. When we start computing, we should be careful and not stop thinking. Yet dynamics in galaxies is worth of study."
   ]
  },
  {
   "cell_type": "markdown",
   "metadata": {},
   "source": [
    "##  References <br>\n",
    "#####  [1] The leapfrog method and other “symplectic” algorithms for integrating\n",
    "Newton’s laws of motion.\n",
    "Peter Young<br>\n",
    "##### [2]https://en.wikipedia.org/wiki/N-body_simulation <br>\n",
    "##### [3]Gibbon, Susanne Pfalzner ; Paul (1996). Many-body tree methods in physics. Cambridge [u.a.]: Cambridge Univ. Press. pp. 2, 3. ISBN 978-0-521-49564-6.\n",
    "##### [4] https://kof.zcu.cz/st/dis/schwarzmeier/gravitational_simulation.html <br>"
   ]
  }
 ],
 "metadata": {
  "kernelspec": {
   "display_name": "Python 3",
   "language": "python",
   "name": "python3"
  },
  "language_info": {
   "codemirror_mode": {
    "name": "ipython",
    "version": 3
   },
   "file_extension": ".py",
   "mimetype": "text/x-python",
   "name": "python",
   "nbconvert_exporter": "python",
   "pygments_lexer": "ipython3",
   "version": "3.7.4"
  }
 },
 "nbformat": 4,
 "nbformat_minor": 2
}
