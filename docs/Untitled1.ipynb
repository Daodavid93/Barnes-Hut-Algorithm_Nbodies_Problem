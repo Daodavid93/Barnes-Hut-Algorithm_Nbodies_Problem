{
 "cells": [
  {
   "cell_type": "code",
   "execution_count": 12,
   "metadata": {},
   "outputs": [],
   "source": []
  },
  {
   "cell_type": "code",
   "execution_count": 8,
   "metadata": {},
   "outputs": [],
   "source": [
    "field = GravityField()\n",
    "\n",
    "field.add_body(Body(15, 6 , -np.cos(np.pi / 4)/100, 0.01*np.cos(np.pi / 4) ,mass=30))\n",
    "field.add_body(Body(6, 6 , -np.cos(np.pi / 4)/100, 0.01*np.cos(np.pi / 4) ,mass=50))\n",
    "field.add_body(Body(-3, 0 ,np.cos(np.pi / 4)/(10*20), np.cos(np.pi / 4)/(10*20),mass=1500))\n",
    "field.add_body(Body(-6, -6 , -0.01*np.cos(np.pi / 4)/100, -0.001*np.cos(np.pi / 4) ,mass=60))\n",
    "field.add_body(Body(-10, 6 , -np.cos(np.pi / 4)/100, 0.01*np.cos(np.pi / 4) ,mass=100))\n",
    "field.add_body(Body(-19, 0 ,np.cos(np.pi / 4)/(10*20), np.cos(np.pi / 4)/(10*20),mass=100))\n",
    "field.add_body(Body(20, 6 , -np.cos(np.pi / 4)/100, 0.01*np.cos(np.pi / 4) ,mass=100))\n"
   ]
  },
  {
   "cell_type": "code",
   "execution_count": 9,
   "metadata": {},
   "outputs": [
    {
     "name": "stdout",
     "output_type": "stream",
     "text": [
      "start calculation 2020-04-22 10:59:14.208320\n",
      "100% calculation  completed :2020-04-22 10:59:17.611372\n",
      "calculation complete succsefuly\n"
     ]
    },
    {
     "data": {
      "text/plain": [
       "(         body_0    body_1    body_2    body_3     body_4     body_5     body_6\n",
       " 0     15.000000  6.000000 -3.000000 -6.000000 -10.000000 -19.000000  20.000000\n",
       " 1     14.999996  5.999996 -2.999998 -6.000000 -10.000004 -18.999998  19.999996\n",
       " 2     14.999989  5.999987 -2.999997 -5.999995 -10.000001 -18.999991  19.999989\n",
       " 3     14.999979  5.999972 -2.999996 -5.999985  -9.999992 -18.999978  19.999978\n",
       " 4     14.999965  5.999951 -2.999996 -5.999971  -9.999977 -18.999960  19.999962\n",
       " ...         ...       ...       ...       ...        ...        ...        ...\n",
       " 996   13.241575  2.872172 -3.270445 -2.894173  -6.562060 -16.163721  18.028691\n",
       " 997   13.237976  2.865361 -3.271017 -2.888687  -6.554158 -16.157811  18.024677\n",
       " 998   13.234373  2.858541 -3.271589 -2.883228  -6.546243 -16.151894  18.020659\n",
       " 999   13.230767  2.851712 -3.272161 -2.877796  -6.538313 -16.145971  18.016637\n",
       " 1000  13.227157  2.844873 -3.272732 -2.872390  -6.530370 -16.140040  18.012611\n",
       " \n",
       " [1001 rows x 7 columns],\n",
       "         body_0    body_1    body_2    body_3    body_4    body_5    body_6\n",
       " 0     6.000000  6.000000  0.000000 -6.000000  6.000000  0.000000  6.000000\n",
       " 1     6.000004  6.000004  0.000002 -6.000000  6.000004  0.000002  6.000004\n",
       " 2     6.000006  6.000003  0.000004 -5.999990  6.000001  0.000004  6.000006\n",
       " 3     6.000007  5.999999  0.000006 -5.999969  5.999993  0.000006  6.000008\n",
       " 4     6.000006  5.999990  0.000008 -5.999937  5.999979  0.000008  6.000009\n",
       " ...        ...       ...       ...       ...       ...       ...       ...\n",
       " 996   5.334485  3.904939  0.036657  0.994749  2.861597  0.107802  5.568904\n",
       " 997   5.333131  3.900462  0.036712  1.010812  2.854497  0.108012  5.568016\n",
       " 998   5.331776  3.895979  0.036770  1.026810  2.847385  0.108221  5.567128\n",
       " 999   5.330419  3.891490  0.036832  1.042742  2.840261  0.108431  5.566238\n",
       " 1000  5.329061  3.886996  0.036898  1.058611  2.833125  0.108641  5.565348\n",
       " \n",
       " [1001 rows x 7 columns])"
      ]
     },
     "execution_count": 9,
     "metadata": {},
     "output_type": "execute_result"
    }
   ],
   "source": [
    "field.run(1000, C=0.001)\n"
   ]
  },
  {
   "cell_type": "code",
   "execution_count": 10,
   "metadata": {
    "scrolled": true
   },
   "outputs": [
    {
     "name": "stdout",
     "output_type": "stream",
     "text": [
      "start rendering 2020-04-22 10:59:19.853719\n",
      "end rendering 2020-04-22 10:59:34.814048\n"
     ]
    },
    {
     "data": {
      "image/png": "[encoded data removed]",
      "text/plain": [
       "<Figure size 432x432 with 1 Axes>"
      ]
     },
     "metadata": {},
     "output_type": "display_data"
    }
   ],
   "source": [
    "anim = field.save_animation(name='first=9-body',frames=100,figsize =(6,6),reduce_size_body=1)"
   ]
  },
  {
   "cell_type": "code",
   "execution_count": 13,
   "metadata": {},
   "outputs": [
    {
     "ename": "NameError",
     "evalue": "name 'anim' is not defined",
     "output_type": "error",
     "traceback": [
      "\u001b[1;31m---------------------------------------------------------------------------\u001b[0m",
      "\u001b[1;31mNameError\u001b[0m                                 Traceback (most recent call last)",
      "\u001b[1;32m<ipython-input-13-f885f4acf935>\u001b[0m in \u001b[0;36m<module>\u001b[1;34m\u001b[0m\n\u001b[1;32m----> 1\u001b[1;33m \u001b[0mHTML\u001b[0m\u001b[1;33m(\u001b[0m\u001b[0manim\u001b[0m\u001b[1;33m.\u001b[0m\u001b[0mto_html5_video\u001b[0m\u001b[1;33m(\u001b[0m\u001b[1;33m)\u001b[0m\u001b[1;33m)\u001b[0m\u001b[1;33m\u001b[0m\u001b[1;33m\u001b[0m\u001b[0m\n\u001b[0m",
      "\u001b[1;31mNameError\u001b[0m: name 'anim' is not defined"
     ]
    }
   ],
   "source": [
    "HTML(anim.to_html5_video())"
   ]
  }
 ],
 "metadata": {
  "kernelspec": {
   "display_name": "Python 3",
   "language": "python",
   "name": "python3"
  },
  "language_info": {
   "codemirror_mode": {
    "name": "ipython",
    "version": 3
   },
   "file_extension": ".py",
   "mimetype": "text/x-python",
   "name": "python",
   "nbconvert_exporter": "python",
   "pygments_lexer": "ipython3",
   "version": "3.7.4"
  }
 },
 "nbformat": 4,
 "nbformat_minor": 2
}
